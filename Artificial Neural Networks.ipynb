{
 "cells": [
  {
   "cell_type": "code",
   "execution_count": 1,
   "metadata": {},
   "outputs": [
    {
     "name": "stderr",
     "output_type": "stream",
     "text": [
      "C:\\Users\\TEMP\\AppData\\Local\\conda\\conda\\envs\\tensor flow sessions\\lib\\site-packages\\tensorflow\\python\\framework\\dtypes.py:526: FutureWarning: Passing (type, 1) or '1type' as a synonym of type is deprecated; in a future version of numpy, it will be understood as (type, (1,)) / '(1,)type'.\n",
      "  _np_qint8 = np.dtype([(\"qint8\", np.int8, 1)])\n",
      "C:\\Users\\TEMP\\AppData\\Local\\conda\\conda\\envs\\tensor flow sessions\\lib\\site-packages\\tensorflow\\python\\framework\\dtypes.py:527: FutureWarning: Passing (type, 1) or '1type' as a synonym of type is deprecated; in a future version of numpy, it will be understood as (type, (1,)) / '(1,)type'.\n",
      "  _np_quint8 = np.dtype([(\"quint8\", np.uint8, 1)])\n",
      "C:\\Users\\TEMP\\AppData\\Local\\conda\\conda\\envs\\tensor flow sessions\\lib\\site-packages\\tensorflow\\python\\framework\\dtypes.py:528: FutureWarning: Passing (type, 1) or '1type' as a synonym of type is deprecated; in a future version of numpy, it will be understood as (type, (1,)) / '(1,)type'.\n",
      "  _np_qint16 = np.dtype([(\"qint16\", np.int16, 1)])\n",
      "C:\\Users\\TEMP\\AppData\\Local\\conda\\conda\\envs\\tensor flow sessions\\lib\\site-packages\\tensorflow\\python\\framework\\dtypes.py:529: FutureWarning: Passing (type, 1) or '1type' as a synonym of type is deprecated; in a future version of numpy, it will be understood as (type, (1,)) / '(1,)type'.\n",
      "  _np_quint16 = np.dtype([(\"quint16\", np.uint16, 1)])\n",
      "C:\\Users\\TEMP\\AppData\\Local\\conda\\conda\\envs\\tensor flow sessions\\lib\\site-packages\\tensorflow\\python\\framework\\dtypes.py:530: FutureWarning: Passing (type, 1) or '1type' as a synonym of type is deprecated; in a future version of numpy, it will be understood as (type, (1,)) / '(1,)type'.\n",
      "  _np_qint32 = np.dtype([(\"qint32\", np.int32, 1)])\n",
      "C:\\Users\\TEMP\\AppData\\Local\\conda\\conda\\envs\\tensor flow sessions\\lib\\site-packages\\tensorflow\\python\\framework\\dtypes.py:535: FutureWarning: Passing (type, 1) or '1type' as a synonym of type is deprecated; in a future version of numpy, it will be understood as (type, (1,)) / '(1,)type'.\n",
      "  np_resource = np.dtype([(\"resource\", np.ubyte, 1)])\n"
     ]
    }
   ],
   "source": [
    "import numpy as np\n",
    "import pandas as pd\n",
    "import tensorflow as tf"
   ]
  },
  {
   "cell_type": "code",
   "execution_count": 2,
   "metadata": {},
   "outputs": [
    {
     "data": {
      "text/plain": [
       "'1.13.2'"
      ]
     },
     "execution_count": 2,
     "metadata": {},
     "output_type": "execute_result"
    }
   ],
   "source": [
    "tf.__version__"
   ]
  },
  {
   "cell_type": "code",
   "execution_count": 3,
   "metadata": {},
   "outputs": [],
   "source": [
    "dataset = pd.read_csv('Churn_Modelling.csv')\n",
    "X = dataset.iloc[:, 3:-1].values\n",
    "y = dataset.iloc[:, -1].values"
   ]
  },
  {
   "cell_type": "code",
   "execution_count": 4,
   "metadata": {},
   "outputs": [
    {
     "data": {
      "text/plain": [
       "array([[619, 'France', 'Female', ..., 1, 1, 101348.88],\n",
       "       [608, 'Spain', 'Female', ..., 0, 1, 112542.58],\n",
       "       [502, 'France', 'Female', ..., 1, 0, 113931.57],\n",
       "       ...,\n",
       "       [709, 'France', 'Female', ..., 0, 1, 42085.58],\n",
       "       [772, 'Germany', 'Male', ..., 1, 0, 92888.52],\n",
       "       [792, 'France', 'Female', ..., 1, 0, 38190.78]], dtype=object)"
      ]
     },
     "execution_count": 4,
     "metadata": {},
     "output_type": "execute_result"
    }
   ],
   "source": [
    "X"
   ]
  },
  {
   "cell_type": "code",
   "execution_count": 5,
   "metadata": {},
   "outputs": [
    {
     "data": {
      "text/plain": [
       "array([1, 0, 1, ..., 1, 1, 0], dtype=int64)"
      ]
     },
     "execution_count": 5,
     "metadata": {},
     "output_type": "execute_result"
    }
   ],
   "source": [
    "y"
   ]
  },
  {
   "cell_type": "code",
   "execution_count": 6,
   "metadata": {},
   "outputs": [],
   "source": [
    "# i would wish to do label encoding for gendercolumn\n",
    "\n",
    "from sklearn.preprocessing import LabelEncoder\n",
    "le = LabelEncoder()\n",
    "X[:, 2] = le.fit_transform(X[:, 2])"
   ]
  },
  {
   "cell_type": "code",
   "execution_count": 7,
   "metadata": {},
   "outputs": [
    {
     "data": {
      "text/plain": [
       "array([[619, 'France', 0, ..., 1, 1, 101348.88],\n",
       "       [608, 'Spain', 0, ..., 0, 1, 112542.58],\n",
       "       [502, 'France', 0, ..., 1, 0, 113931.57],\n",
       "       ...,\n",
       "       [709, 'France', 0, ..., 0, 1, 42085.58],\n",
       "       [772, 'Germany', 1, ..., 1, 0, 92888.52],\n",
       "       [792, 'France', 0, ..., 1, 0, 38190.78]], dtype=object)"
      ]
     },
     "execution_count": 7,
     "metadata": {},
     "output_type": "execute_result"
    }
   ],
   "source": [
    "X"
   ]
  },
  {
   "cell_type": "code",
   "execution_count": 8,
   "metadata": {},
   "outputs": [],
   "source": [
    "# one hot encoding for country column\n",
    "\n",
    "from sklearn.compose import ColumnTransformer\n",
    "from sklearn.preprocessing import OneHotEncoder\n",
    "ct = ColumnTransformer(transformers=[('encoder', OneHotEncoder(), [1])], remainder='passthrough')\n",
    "X = np.array(ct.fit_transform(X))"
   ]
  },
  {
   "cell_type": "code",
   "execution_count": 9,
   "metadata": {},
   "outputs": [
    {
     "data": {
      "text/plain": [
       "array([[1.0, 0.0, 0.0, ..., 1, 1, 101348.88],\n",
       "       [0.0, 0.0, 1.0, ..., 0, 1, 112542.58],\n",
       "       [1.0, 0.0, 0.0, ..., 1, 0, 113931.57],\n",
       "       ...,\n",
       "       [1.0, 0.0, 0.0, ..., 0, 1, 42085.58],\n",
       "       [0.0, 1.0, 0.0, ..., 1, 0, 92888.52],\n",
       "       [1.0, 0.0, 0.0, ..., 1, 0, 38190.78]], dtype=object)"
      ]
     },
     "execution_count": 9,
     "metadata": {},
     "output_type": "execute_result"
    }
   ],
   "source": [
    "X"
   ]
  },
  {
   "cell_type": "code",
   "execution_count": 11,
   "metadata": {},
   "outputs": [],
   "source": [
    "from sklearn.model_selection import train_test_split\n",
    "X_train, X_test, y_train, y_test = train_test_split(X, y, test_size = 0.2, random_state = 0)"
   ]
  },
  {
   "cell_type": "code",
   "execution_count": 12,
   "metadata": {},
   "outputs": [
    {
     "name": "stderr",
     "output_type": "stream",
     "text": [
      "C:\\Users\\TEMP\\AppData\\Local\\conda\\conda\\envs\\tensor flow sessions\\lib\\site-packages\\sklearn\\utils\\validation.py:590: DataConversionWarning: Data with input dtype object was converted to float64 by StandardScaler.\n",
      "  warnings.warn(msg, DataConversionWarning)\n",
      "C:\\Users\\TEMP\\AppData\\Local\\conda\\conda\\envs\\tensor flow sessions\\lib\\site-packages\\sklearn\\utils\\validation.py:590: DataConversionWarning: Data with input dtype object was converted to float64 by StandardScaler.\n",
      "  warnings.warn(msg, DataConversionWarning)\n",
      "C:\\Users\\TEMP\\AppData\\Local\\conda\\conda\\envs\\tensor flow sessions\\lib\\site-packages\\sklearn\\utils\\validation.py:590: DataConversionWarning: Data with input dtype object was converted to float64 by StandardScaler.\n",
      "  warnings.warn(msg, DataConversionWarning)\n"
     ]
    }
   ],
   "source": [
    "from sklearn.preprocessing import StandardScaler\n",
    "sc = StandardScaler()\n",
    "X_train = sc.fit_transform(X_train)\n",
    "X_test = sc.transform(X_test)"
   ]
  },
  {
   "cell_type": "code",
   "execution_count": 14,
   "metadata": {},
   "outputs": [
    {
     "data": {
      "text/plain": [
       "array([[-1.01460667, -0.5698444 ,  1.74309049, ...,  0.64259497,\n",
       "        -1.03227043,  1.10643166],\n",
       "       [-1.01460667,  1.75486502, -0.57369368, ...,  0.64259497,\n",
       "         0.9687384 , -0.74866447],\n",
       "       [ 0.98560362, -0.5698444 , -0.57369368, ...,  0.64259497,\n",
       "        -1.03227043,  1.48533467],\n",
       "       ...,\n",
       "       [ 0.98560362, -0.5698444 , -0.57369368, ...,  0.64259497,\n",
       "        -1.03227043,  1.41231994],\n",
       "       [-1.01460667, -0.5698444 ,  1.74309049, ...,  0.64259497,\n",
       "         0.9687384 ,  0.84432121],\n",
       "       [-1.01460667,  1.75486502, -0.57369368, ...,  0.64259497,\n",
       "        -1.03227043,  0.32472465]])"
      ]
     },
     "execution_count": 14,
     "metadata": {},
     "output_type": "execute_result"
    }
   ],
   "source": [
    "X_train"
   ]
  },
  {
   "cell_type": "code",
   "execution_count": 15,
   "metadata": {},
   "outputs": [],
   "source": [
    "# initalizing ANN\n",
    "\n",
    "ann = tf.keras.models.Sequential()"
   ]
  },
  {
   "cell_type": "code",
   "execution_count": 16,
   "metadata": {},
   "outputs": [],
   "source": [
    "# input and first hidden layer\n",
    "\n",
    "ann.add(tf.keras.layers.Dense(units=6, activation='relu'))"
   ]
  },
  {
   "cell_type": "code",
   "execution_count": 17,
   "metadata": {},
   "outputs": [],
   "source": [
    "#second layer\n",
    "\n",
    "ann.add(tf.keras.layers.Dense(units=6, activation='relu'))"
   ]
  },
  {
   "cell_type": "code",
   "execution_count": 18,
   "metadata": {},
   "outputs": [],
   "source": [
    "# o/p Layer\n",
    "\n",
    "ann.add(tf.keras.layers.Dense(units=1, activation='sigmoid'))"
   ]
  },
  {
   "cell_type": "code",
   "execution_count": 19,
   "metadata": {},
   "outputs": [
    {
     "name": "stdout",
     "output_type": "stream",
     "text": [
      "WARNING:tensorflow:From C:\\Users\\TEMP\\AppData\\Local\\conda\\conda\\envs\\tensor flow sessions\\lib\\site-packages\\tensorflow\\python\\ops\\resource_variable_ops.py:435: colocate_with (from tensorflow.python.framework.ops) is deprecated and will be removed in a future version.\n",
      "Instructions for updating:\n",
      "Colocations handled automatically by placer.\n"
     ]
    }
   ],
   "source": [
    "ann.compile(optimizer = 'adam', loss = 'binary_crossentropy', metrics = ['accuracy'])"
   ]
  },
  {
   "cell_type": "code",
   "execution_count": 20,
   "metadata": {},
   "outputs": [
    {
     "name": "stdout",
     "output_type": "stream",
     "text": [
      "WARNING:tensorflow:From C:\\Users\\TEMP\\AppData\\Local\\conda\\conda\\envs\\tensor flow sessions\\lib\\site-packages\\tensorflow\\python\\ops\\math_ops.py:3066: to_int32 (from tensorflow.python.ops.math_ops) is deprecated and will be removed in a future version.\n",
      "Instructions for updating:\n",
      "Use tf.cast instead.\n",
      "Epoch 1/100\n",
      "8000/8000 [==============================] - 1s 116us/sample - loss: 0.6241 - acc: 0.6898\n",
      "Epoch 2/100\n",
      "8000/8000 [==============================] - 0s 36us/sample - loss: 0.4836 - acc: 0.7961\n",
      "Epoch 3/100\n",
      "8000/8000 [==============================] - 0s 36us/sample - loss: 0.4468 - acc: 0.8052\n",
      "Epoch 4/100\n",
      "8000/8000 [==============================] - 1s 67us/sample - loss: 0.4297 - acc: 0.8133\n",
      "Epoch 5/100\n",
      "8000/8000 [==============================] - 1s 71us/sample - loss: 0.4199 - acc: 0.8210\n",
      "Epoch 6/100\n",
      "8000/8000 [==============================] - 1s 81us/sample - loss: 0.4138 - acc: 0.8251\n",
      "Epoch 7/100\n",
      "8000/8000 [==============================] - 1s 72us/sample - loss: 0.4090 - acc: 0.8279\n",
      "Epoch 8/100\n",
      "8000/8000 [==============================] - 1s 71us/sample - loss: 0.4048 - acc: 0.8282\n",
      "Epoch 9/100\n",
      "8000/8000 [==============================] - 1s 71us/sample - loss: 0.4013 - acc: 0.8295\n",
      "Epoch 10/100\n",
      "8000/8000 [==============================] - 0s 34us/sample - loss: 0.3980 - acc: 0.8314\n",
      "Epoch 11/100\n",
      "8000/8000 [==============================] - 0s 31us/sample - loss: 0.3946 - acc: 0.8313\n",
      "Epoch 12/100\n",
      "8000/8000 [==============================] - 0s 35us/sample - loss: 0.3917 - acc: 0.8325\n",
      "Epoch 13/100\n",
      "8000/8000 [==============================] - 0s 44us/sample - loss: 0.3884 - acc: 0.8341\n",
      "Epoch 14/100\n",
      "8000/8000 [==============================] - 0s 38us/sample - loss: 0.3854 - acc: 0.8345\n",
      "Epoch 15/100\n",
      "8000/8000 [==============================] - 0s 36us/sample - loss: 0.3814 - acc: 0.8372\n",
      "Epoch 16/100\n",
      "8000/8000 [==============================] - 0s 40us/sample - loss: 0.3764 - acc: 0.8382\n",
      "Epoch 17/100\n",
      "8000/8000 [==============================] - 0s 53us/sample - loss: 0.3719 - acc: 0.8436\n",
      "Epoch 18/100\n",
      "8000/8000 [==============================] - 1s 73us/sample - loss: 0.3675 - acc: 0.8486\n",
      "Epoch 19/100\n",
      "8000/8000 [==============================] - 1s 81us/sample - loss: 0.3632 - acc: 0.8514\n",
      "Epoch 20/100\n",
      "8000/8000 [==============================] - 1s 86us/sample - loss: 0.3595 - acc: 0.8514\n",
      "Epoch 21/100\n",
      "8000/8000 [==============================] - 0s 44us/sample - loss: 0.3558 - acc: 0.8555\n",
      "Epoch 22/100\n",
      "8000/8000 [==============================] - 0s 35us/sample - loss: 0.3536 - acc: 0.8568\n",
      "Epoch 23/100\n",
      "8000/8000 [==============================] - 0s 50us/sample - loss: 0.3511 - acc: 0.8583\n",
      "Epoch 24/100\n",
      "8000/8000 [==============================] - 0s 49us/sample - loss: 0.3497 - acc: 0.8587\n",
      "Epoch 25/100\n",
      "8000/8000 [==============================] - 0s 47us/sample - loss: 0.3484 - acc: 0.8581\n",
      "Epoch 26/100\n",
      "8000/8000 [==============================] - 0s 48us/sample - loss: 0.3476 - acc: 0.8595\n",
      "Epoch 27/100\n",
      "8000/8000 [==============================] - 0s 42us/sample - loss: 0.3469 - acc: 0.8581\n",
      "Epoch 28/100\n",
      "8000/8000 [==============================] - 0s 48us/sample - loss: 0.3461 - acc: 0.8581\n",
      "Epoch 29/100\n",
      "8000/8000 [==============================] - 0s 48us/sample - loss: 0.3458 - acc: 0.8579\n",
      "Epoch 30/100\n",
      "8000/8000 [==============================] - 0s 53us/sample - loss: 0.3450 - acc: 0.8586\n",
      "Epoch 31/100\n",
      "8000/8000 [==============================] - 0s 44us/sample - loss: 0.3446 - acc: 0.8594\n",
      "Epoch 32/100\n",
      "8000/8000 [==============================] - 0s 41us/sample - loss: 0.3443 - acc: 0.8594\n",
      "Epoch 33/100\n",
      "8000/8000 [==============================] - 0s 43us/sample - loss: 0.3438 - acc: 0.8586\n",
      "Epoch 34/100\n",
      "8000/8000 [==============================] - 0s 42us/sample - loss: 0.3436 - acc: 0.8584\n",
      "Epoch 35/100\n",
      "8000/8000 [==============================] - 0s 42us/sample - loss: 0.3436 - acc: 0.8595\n",
      "Epoch 36/100\n",
      "8000/8000 [==============================] - 0s 43us/sample - loss: 0.3431 - acc: 0.8589\n",
      "Epoch 37/100\n",
      "8000/8000 [==============================] - 0s 43us/sample - loss: 0.3429 - acc: 0.8604\n",
      "Epoch 38/100\n",
      "8000/8000 [==============================] - 0s 42us/sample - loss: 0.3429 - acc: 0.8589\n",
      "Epoch 39/100\n",
      "8000/8000 [==============================] - 0s 53us/sample - loss: 0.3427 - acc: 0.8604\n",
      "Epoch 40/100\n",
      "8000/8000 [==============================] - 0s 54us/sample - loss: 0.3426 - acc: 0.8600\n",
      "Epoch 41/100\n",
      "8000/8000 [==============================] - 0s 44us/sample - loss: 0.3424 - acc: 0.8599\n",
      "Epoch 42/100\n",
      "8000/8000 [==============================] - 0s 43us/sample - loss: 0.3422 - acc: 0.8595\n",
      "Epoch 43/100\n",
      "8000/8000 [==============================] - 0s 43us/sample - loss: 0.3419 - acc: 0.8614\n",
      "Epoch 44/100\n",
      "8000/8000 [==============================] - 0s 50us/sample - loss: 0.3418 - acc: 0.8602\n",
      "Epoch 45/100\n",
      "8000/8000 [==============================] - 1s 73us/sample - loss: 0.3417 - acc: 0.8611\n",
      "Epoch 46/100\n",
      "8000/8000 [==============================] - 1s 70us/sample - loss: 0.3417 - acc: 0.8618\n",
      "Epoch 47/100\n",
      "8000/8000 [==============================] - 0s 57us/sample - loss: 0.3414 - acc: 0.86150s - loss: 0.3035 - acc\n",
      "Epoch 48/100\n",
      "8000/8000 [==============================] - 0s 54us/sample - loss: 0.3415 - acc: 0.8597\n",
      "Epoch 49/100\n",
      "8000/8000 [==============================] - 0s 56us/sample - loss: 0.3412 - acc: 0.8602\n",
      "Epoch 50/100\n",
      "8000/8000 [==============================] - 0s 45us/sample - loss: 0.3413 - acc: 0.8621\n",
      "Epoch 51/100\n",
      "8000/8000 [==============================] - 0s 41us/sample - loss: 0.3411 - acc: 0.8611\n",
      "Epoch 52/100\n",
      "8000/8000 [==============================] - 0s 56us/sample - loss: 0.3407 - acc: 0.8602\n",
      "Epoch 53/100\n",
      "8000/8000 [==============================] - 0s 50us/sample - loss: 0.3409 - acc: 0.8616\n",
      "Epoch 54/100\n",
      "8000/8000 [==============================] - 0s 46us/sample - loss: 0.3406 - acc: 0.8606\n",
      "Epoch 55/100\n",
      "8000/8000 [==============================] - 0s 57us/sample - loss: 0.3405 - acc: 0.8619\n",
      "Epoch 56/100\n",
      "8000/8000 [==============================] - 0s 49us/sample - loss: 0.3405 - acc: 0.8624\n",
      "Epoch 57/100\n",
      "8000/8000 [==============================] - 0s 52us/sample - loss: 0.3402 - acc: 0.86160s - loss: 0.3512 - acc: 0.\n",
      "Epoch 58/100\n",
      "8000/8000 [==============================] - 0s 44us/sample - loss: 0.3406 - acc: 0.8612\n",
      "Epoch 59/100\n",
      "8000/8000 [==============================] - 0s 44us/sample - loss: 0.3402 - acc: 0.8610\n",
      "Epoch 60/100\n",
      "8000/8000 [==============================] - 0s 48us/sample - loss: 0.3405 - acc: 0.8609\n",
      "Epoch 61/100\n",
      "8000/8000 [==============================] - 0s 46us/sample - loss: 0.3402 - acc: 0.8626\n",
      "Epoch 62/100\n",
      "8000/8000 [==============================] - 0s 49us/sample - loss: 0.3399 - acc: 0.8621\n",
      "Epoch 63/100\n",
      "8000/8000 [==============================] - 0s 46us/sample - loss: 0.3401 - acc: 0.8604\n",
      "Epoch 64/100\n",
      "8000/8000 [==============================] - 0s 61us/sample - loss: 0.3398 - acc: 0.8612\n",
      "Epoch 65/100\n",
      "8000/8000 [==============================] - 0s 50us/sample - loss: 0.3394 - acc: 0.8618\n",
      "Epoch 66/100\n",
      "8000/8000 [==============================] - 0s 48us/sample - loss: 0.3395 - acc: 0.8611\n",
      "Epoch 67/100\n",
      "8000/8000 [==============================] - 0s 48us/sample - loss: 0.3394 - acc: 0.8629\n",
      "Epoch 68/100\n",
      "8000/8000 [==============================] - 0s 50us/sample - loss: 0.3393 - acc: 0.8629\n",
      "Epoch 69/100\n",
      "8000/8000 [==============================] - 0s 43us/sample - loss: 0.3396 - acc: 0.8618\n",
      "Epoch 70/100\n",
      "8000/8000 [==============================] - 0s 49us/sample - loss: 0.3394 - acc: 0.8606\n",
      "Epoch 71/100\n",
      "8000/8000 [==============================] - 0s 49us/sample - loss: 0.3393 - acc: 0.8600\n",
      "Epoch 72/100\n",
      "8000/8000 [==============================] - 1s 67us/sample - loss: 0.3392 - acc: 0.8624\n",
      "Epoch 73/100\n",
      "8000/8000 [==============================] - 0s 51us/sample - loss: 0.3389 - acc: 0.8616\n",
      "Epoch 74/100\n",
      "8000/8000 [==============================] - 0s 51us/sample - loss: 0.3390 - acc: 0.8612\n",
      "Epoch 75/100\n",
      "8000/8000 [==============================] - 0s 47us/sample - loss: 0.3392 - acc: 0.8622\n",
      "Epoch 76/100\n",
      "8000/8000 [==============================] - 0s 49us/sample - loss: 0.3385 - acc: 0.8611\n",
      "Epoch 77/100\n",
      "8000/8000 [==============================] - 0s 51us/sample - loss: 0.3389 - acc: 0.8619\n"
     ]
    },
    {
     "name": "stdout",
     "output_type": "stream",
     "text": [
      "Epoch 78/100\n",
      "8000/8000 [==============================] - 0s 53us/sample - loss: 0.3382 - acc: 0.8624\n",
      "Epoch 79/100\n",
      "8000/8000 [==============================] - 0s 58us/sample - loss: 0.3383 - acc: 0.8630\n",
      "Epoch 80/100\n",
      "8000/8000 [==============================] - 0s 46us/sample - loss: 0.3384 - acc: 0.8650\n",
      "Epoch 81/100\n",
      "8000/8000 [==============================] - 0s 41us/sample - loss: 0.3380 - acc: 0.8629\n",
      "Epoch 82/100\n",
      "8000/8000 [==============================] - 0s 42us/sample - loss: 0.3384 - acc: 0.8630\n",
      "Epoch 83/100\n",
      "8000/8000 [==============================] - 0s 49us/sample - loss: 0.3378 - acc: 0.8619\n",
      "Epoch 84/100\n",
      "8000/8000 [==============================] - 0s 42us/sample - loss: 0.3380 - acc: 0.8629\n",
      "Epoch 85/100\n",
      "8000/8000 [==============================] - 0s 43us/sample - loss: 0.3378 - acc: 0.8621\n",
      "Epoch 86/100\n",
      "8000/8000 [==============================] - 0s 46us/sample - loss: 0.3374 - acc: 0.8631\n",
      "Epoch 87/100\n",
      "8000/8000 [==============================] - 0s 48us/sample - loss: 0.3371 - acc: 0.8643\n",
      "Epoch 88/100\n",
      "8000/8000 [==============================] - 0s 49us/sample - loss: 0.3375 - acc: 0.8630\n",
      "Epoch 89/100\n",
      "8000/8000 [==============================] - 0s 46us/sample - loss: 0.3367 - acc: 0.8640\n",
      "Epoch 90/100\n",
      "8000/8000 [==============================] - 0s 54us/sample - loss: 0.3375 - acc: 0.8635\n",
      "Epoch 91/100\n",
      "8000/8000 [==============================] - 0s 49us/sample - loss: 0.3370 - acc: 0.8625\n",
      "Epoch 92/100\n",
      "8000/8000 [==============================] - 0s 48us/sample - loss: 0.3371 - acc: 0.8637\n",
      "Epoch 93/100\n",
      "8000/8000 [==============================] - 0s 56us/sample - loss: 0.3373 - acc: 0.8641\n",
      "Epoch 94/100\n",
      "8000/8000 [==============================] - 0s 56us/sample - loss: 0.3366 - acc: 0.8615\n",
      "Epoch 95/100\n",
      "8000/8000 [==============================] - 0s 54us/sample - loss: 0.3368 - acc: 0.8618\n",
      "Epoch 96/100\n",
      "8000/8000 [==============================] - 0s 51us/sample - loss: 0.3366 - acc: 0.8633\n",
      "Epoch 97/100\n",
      "8000/8000 [==============================] - 0s 49us/sample - loss: 0.3359 - acc: 0.8629\n",
      "Epoch 98/100\n",
      "8000/8000 [==============================] - 0s 50us/sample - loss: 0.3365 - acc: 0.8635\n",
      "Epoch 99/100\n",
      "8000/8000 [==============================] - 0s 44us/sample - loss: 0.3362 - acc: 0.8624\n",
      "Epoch 100/100\n",
      "8000/8000 [==============================] - 0s 49us/sample - loss: 0.3362 - acc: 0.8626\n"
     ]
    },
    {
     "data": {
      "text/plain": [
       "<tensorflow.python.keras.callbacks.History at 0x1cd7fea26d8>"
      ]
     },
     "execution_count": 20,
     "metadata": {},
     "output_type": "execute_result"
    }
   ],
   "source": [
    "ann.fit(X_train, y_train, batch_size = 32, epochs = 100)"
   ]
  },
  {
   "cell_type": "code",
   "execution_count": 22,
   "metadata": {},
   "outputs": [
    {
     "name": "stdout",
     "output_type": "stream",
     "text": [
      "[[0.03595789]]\n"
     ]
    }
   ],
   "source": [
    "print(ann.predict(sc.transform([[1, 0, 0, 600, 1, 40, 3, 60000, 2, 1, 1, 50000]])) )"
   ]
  },
  {
   "cell_type": "code",
   "execution_count": 25,
   "metadata": {},
   "outputs": [
    {
     "name": "stdout",
     "output_type": "stream",
     "text": [
      "[[False]]\n"
     ]
    }
   ],
   "source": [
    "print(ann.predict(sc.transform([[1, 0, 0, 600, 1, 40, 3, 60000, 2, 1, 1, 50000]])) > 0.5)"
   ]
  },
  {
   "cell_type": "code",
   "execution_count": 26,
   "metadata": {},
   "outputs": [
    {
     "name": "stdout",
     "output_type": "stream",
     "text": [
      "[[0 0]\n",
      " [0 1]\n",
      " [0 0]\n",
      " ...\n",
      " [0 0]\n",
      " [0 0]\n",
      " [0 0]]\n"
     ]
    }
   ],
   "source": [
    "y_pred = ann.predict(X_test)\n",
    "y_pred = (y_pred > 0.5)\n",
    "print(np.concatenate((y_pred.reshape(len(y_pred),1), y_test.reshape(len(y_test),1)),1))"
   ]
  },
  {
   "cell_type": "code",
   "execution_count": 27,
   "metadata": {},
   "outputs": [
    {
     "name": "stdout",
     "output_type": "stream",
     "text": [
      "[[1509   86]\n",
      " [ 192  213]]\n"
     ]
    },
    {
     "data": {
      "text/plain": [
       "0.861"
      ]
     },
     "execution_count": 27,
     "metadata": {},
     "output_type": "execute_result"
    }
   ],
   "source": [
    "from sklearn.metrics import confusion_matrix, accuracy_score\n",
    "cm = confusion_matrix(y_test, y_pred)\n",
    "print(cm)\n",
    "accuracy_score(y_test, y_pred)"
   ]
  },
  {
   "cell_type": "code",
   "execution_count": null,
   "metadata": {},
   "outputs": [],
   "source": []
  }
 ],
 "metadata": {
  "kernelspec": {
   "display_name": "Python 3",
   "language": "python",
   "name": "python3"
  },
  "language_info": {
   "codemirror_mode": {
    "name": "ipython",
    "version": 3
   },
   "file_extension": ".py",
   "mimetype": "text/x-python",
   "name": "python",
   "nbconvert_exporter": "python",
   "pygments_lexer": "ipython3",
   "version": "3.6.6"
  }
 },
 "nbformat": 4,
 "nbformat_minor": 2
}
